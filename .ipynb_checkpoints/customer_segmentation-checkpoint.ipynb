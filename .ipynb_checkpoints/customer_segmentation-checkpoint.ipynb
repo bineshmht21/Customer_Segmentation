{
 "cells": [
  {
   "cell_type": "code",
   "execution_count": 1,
   "id": "8b6da2f3-a1aa-4a66-a756-a0d8fb90b96a",
   "metadata": {},
   "outputs": [
    {
     "name": "stdout",
     "output_type": "stream",
     "text": [
      "Downloading from https://www.kaggle.com/api/v1/datasets/download/yasserh/customer-segmentation-dataset?dataset_version_number=1...\n"
     ]
    },
    {
     "name": "stderr",
     "output_type": "stream",
     "text": [
      "100%|██████████| 21.8M/21.8M [00:09<00:00, 2.37MB/s]"
     ]
    },
    {
     "name": "stdout",
     "output_type": "stream",
     "text": [
      "Extracting files...\n",
      "Path to dataset files: C:\\Users\\BineshMahato\\.cache\\kagglehub\\datasets\\yasserh\\customer-segmentation-dataset\\versions\\1\n"
     ]
    },
    {
     "name": "stderr",
     "output_type": "stream",
     "text": [
      "\n"
     ]
    }
   ],
   "source": [
    "import kagglehub\n",
    "\n",
    "# Download latest version\n",
    "path = kagglehub.dataset_download(\"yasserh/customer-segmentation-dataset\")\n",
    "\n",
    "print(\"Path to dataset files:\", path)"
   ]
  },
  {
   "cell_type": "code",
   "execution_count": 10,
   "id": "ce73030b-d2b7-4b15-bc2d-ddad61f299ea",
   "metadata": {
    "scrolled": true
   },
   "outputs": [
    {
     "data": {
      "text/html": [
       "<div>\n",
       "<style scoped>\n",
       "    .dataframe tbody tr th:only-of-type {\n",
       "        vertical-align: middle;\n",
       "    }\n",
       "\n",
       "    .dataframe tbody tr th {\n",
       "        vertical-align: top;\n",
       "    }\n",
       "\n",
       "    .dataframe thead th {\n",
       "        text-align: right;\n",
       "    }\n",
       "</style>\n",
       "<table border=\"1\" class=\"dataframe\">\n",
       "  <thead>\n",
       "    <tr style=\"text-align: right;\">\n",
       "      <th></th>\n",
       "      <th>InvoiceNo</th>\n",
       "      <th>StockCode</th>\n",
       "      <th>Description</th>\n",
       "      <th>Quantity</th>\n",
       "      <th>InvoiceDate</th>\n",
       "      <th>UnitPrice</th>\n",
       "      <th>CustomerID</th>\n",
       "      <th>Country</th>\n",
       "    </tr>\n",
       "  </thead>\n",
       "  <tbody>\n",
       "    <tr>\n",
       "      <th>0</th>\n",
       "      <td>536365</td>\n",
       "      <td>85123A</td>\n",
       "      <td>WHITE HANGING HEART T-LIGHT HOLDER</td>\n",
       "      <td>6</td>\n",
       "      <td>2010-12-01 08:26:00</td>\n",
       "      <td>2.55</td>\n",
       "      <td>17850.0</td>\n",
       "      <td>United Kingdom</td>\n",
       "    </tr>\n",
       "    <tr>\n",
       "      <th>1</th>\n",
       "      <td>536365</td>\n",
       "      <td>71053</td>\n",
       "      <td>WHITE METAL LANTERN</td>\n",
       "      <td>6</td>\n",
       "      <td>2010-12-01 08:26:00</td>\n",
       "      <td>3.39</td>\n",
       "      <td>17850.0</td>\n",
       "      <td>United Kingdom</td>\n",
       "    </tr>\n",
       "    <tr>\n",
       "      <th>2</th>\n",
       "      <td>536365</td>\n",
       "      <td>84406B</td>\n",
       "      <td>CREAM CUPID HEARTS COAT HANGER</td>\n",
       "      <td>8</td>\n",
       "      <td>2010-12-01 08:26:00</td>\n",
       "      <td>2.75</td>\n",
       "      <td>17850.0</td>\n",
       "      <td>United Kingdom</td>\n",
       "    </tr>\n",
       "    <tr>\n",
       "      <th>3</th>\n",
       "      <td>536365</td>\n",
       "      <td>84029G</td>\n",
       "      <td>KNITTED UNION FLAG HOT WATER BOTTLE</td>\n",
       "      <td>6</td>\n",
       "      <td>2010-12-01 08:26:00</td>\n",
       "      <td>3.39</td>\n",
       "      <td>17850.0</td>\n",
       "      <td>United Kingdom</td>\n",
       "    </tr>\n",
       "    <tr>\n",
       "      <th>4</th>\n",
       "      <td>536365</td>\n",
       "      <td>84029E</td>\n",
       "      <td>RED WOOLLY HOTTIE WHITE HEART.</td>\n",
       "      <td>6</td>\n",
       "      <td>2010-12-01 08:26:00</td>\n",
       "      <td>3.39</td>\n",
       "      <td>17850.0</td>\n",
       "      <td>United Kingdom</td>\n",
       "    </tr>\n",
       "  </tbody>\n",
       "</table>\n",
       "</div>"
      ],
      "text/plain": [
       "  InvoiceNo StockCode                          Description  Quantity  \\\n",
       "0    536365    85123A   WHITE HANGING HEART T-LIGHT HOLDER         6   \n",
       "1    536365     71053                  WHITE METAL LANTERN         6   \n",
       "2    536365    84406B       CREAM CUPID HEARTS COAT HANGER         8   \n",
       "3    536365    84029G  KNITTED UNION FLAG HOT WATER BOTTLE         6   \n",
       "4    536365    84029E       RED WOOLLY HOTTIE WHITE HEART.         6   \n",
       "\n",
       "          InvoiceDate  UnitPrice  CustomerID         Country  \n",
       "0 2010-12-01 08:26:00       2.55     17850.0  United Kingdom  \n",
       "1 2010-12-01 08:26:00       3.39     17850.0  United Kingdom  \n",
       "2 2010-12-01 08:26:00       2.75     17850.0  United Kingdom  \n",
       "3 2010-12-01 08:26:00       3.39     17850.0  United Kingdom  \n",
       "4 2010-12-01 08:26:00       3.39     17850.0  United Kingdom  "
      ]
     },
     "execution_count": 10,
     "metadata": {},
     "output_type": "execute_result"
    }
   ],
   "source": [
    "import pandas as pd\n",
    "\n",
    "# Corrected file path (adjust if needed)\n",
    "path = r'C:\\Users\\BineshMahato\\.cache\\kagglehub\\datasets\\yasserh\\customer-segmentation-dataset\\versions\\1\\online_retail.xlsx'\n",
    "\n",
    "# Load the dataset into a pandas DataFrame\n",
    "df = pd.read_excel(path)\n",
    "\n",
    "# Check the first few rows of the dataset\n",
    "df.head()\n"
   ]
  },
  {
   "cell_type": "code",
   "execution_count": 29,
   "id": "f96454bf-cbbe-493f-88c0-f7d9d439d6c2",
   "metadata": {},
   "outputs": [
    {
     "name": "stdout",
     "output_type": "stream",
     "text": [
      "Index(['InvoiceNo', 'StockCode', 'Quantity', 'InvoiceDate', 'UnitPrice',\n",
      "       'CustomerID'],\n",
      "      dtype='object')\n",
      "InvoiceNo      0\n",
      "StockCode      0\n",
      "Quantity       0\n",
      "InvoiceDate    0\n",
      "UnitPrice      0\n",
      "CustomerID     0\n",
      "dtype: int64\n"
     ]
    }
   ],
   "source": [
    "# Check for missing values\n",
    "df.isnull().sum()\n",
    "\n",
    "# Drop any rows with missing values (if necessary)\n",
    "df = df.dropna()\n",
    "\n",
    "# Explore summary statistics\n",
    "df.describe()\n",
    "\n",
    "print(df.columns)\n",
    "print(df.isnull().sum())"
   ]
  },
  {
   "cell_type": "code",
   "execution_count": 31,
   "id": "64c5d267-236a-4160-aa36-c8b2270aa25c",
   "metadata": {},
   "outputs": [],
   "source": [
    "# Select features for clustering (Adjust based on your dataset)\n",
    "features = df[['InvoiceNo', 'StockCode', 'Quantity', 'InvoiceDate',\n",
    "               'UnitPrice', 'CustomerID', ]]\n",
    "\n"
   ]
  },
  {
   "cell_type": "code",
   "execution_count": 32,
   "id": "caebc4f0-b6dd-4536-ad14-e35c3358dbae",
   "metadata": {},
   "outputs": [
    {
     "name": "stdout",
     "output_type": "stream",
     "text": [
      "<class 'pandas.core.frame.DataFrame'>\n",
      "Index: 363119 entries, 1 to 541908\n",
      "Data columns (total 6 columns):\n",
      " #   Column       Non-Null Count   Dtype  \n",
      "---  ------       --------------   -----  \n",
      " 0   InvoiceNo    363119 non-null  float64\n",
      " 1   StockCode    363119 non-null  float64\n",
      " 2   Quantity     363119 non-null  int64  \n",
      " 3   InvoiceDate  363119 non-null  int64  \n",
      " 4   UnitPrice    363119 non-null  float64\n",
      " 5   CustomerID   363119 non-null  float64\n",
      "dtypes: float64(4), int64(2)\n",
      "memory usage: 19.4 MB\n"
     ]
    }
   ],
   "source": [
    "df.info()  # Check data types of all columns\n"
   ]
  },
  {
   "cell_type": "code",
   "execution_count": 34,
   "id": "0178e0d8-2ea4-44ec-ae9d-03638974b623",
   "metadata": {},
   "outputs": [],
   "source": [
    "\n",
    "df = df.apply(pd.to_numeric, errors='coerce')\n"
   ]
  },
  {
   "cell_type": "code",
   "execution_count": 35,
   "id": "53d754b3-9be3-4fb7-ae60-96018692b094",
   "metadata": {},
   "outputs": [],
   "source": [
    "from sklearn.preprocessing import StandardScaler\n",
    "\n",
    "\n",
    "scaler = StandardScaler()\n",
    "scaled_features = scaler.fit_transform(df)\n"
   ]
  },
  {
   "cell_type": "code",
   "execution_count": 36,
   "id": "598e7990-3f10-44da-ae93-f28ad37aeacb",
   "metadata": {
    "scrolled": true
   },
   "outputs": [],
   "source": [
    "from sklearn.cluster import KMeans\n",
    "\n",
    "# Define the number of clusters (e.g., 4 clusters)\n",
    "kmeans = KMeans(n_clusters=4, random_state=42)\n",
    "\n",
    "# Fit the model\n",
    "kmeans.fit(scaled_features)\n",
    "\n",
    "# Get the cluster labels\n",
    "df['Cluster'] = kmeans.labels_\n"
   ]
  },
  {
   "cell_type": "code",
   "execution_count": 39,
   "id": "0254e723-5601-4f6e-ad23-8f4b7a0e2158",
   "metadata": {},
   "outputs": [
    {
     "data": {
      "image/png": "[encoded data removed]",
      "text/plain": [
       "<Figure size 800x600 with 1 Axes>"
      ]
     },
     "metadata": {},
     "output_type": "display_data"
    }
   ],
   "source": [
    "import matplotlib.pyplot as plt\n",
    "import seaborn as sns\n",
    "\n",
    "# Plot clusters to visualize the segmentation\n",
    "plt.figure(figsize=(8, 6))\n",
    "sns.scatterplot(data=df, x='Quantity', y='UnitPrice', hue='Cluster', palette='viridis', s=100)\n",
    "plt.title(\"Customer Segmentation\")\n",
    "plt.xlabel(\"Quantity\")\n",
    "plt.ylabel(\"UnitPrice\")\n",
    "plt.show()\n"
   ]
  },
  {
   "cell_type": "code",
   "execution_count": 40,
   "id": "e148a6ae-2a0a-4f66-8182-bf9f21069382",
   "metadata": {},
   "outputs": [
    {
     "data": {
      "text/html": [
       "<div>\n",
       "<style scoped>\n",
       "    .dataframe tbody tr th:only-of-type {\n",
       "        vertical-align: middle;\n",
       "    }\n",
       "\n",
       "    .dataframe tbody tr th {\n",
       "        vertical-align: top;\n",
       "    }\n",
       "\n",
       "    .dataframe thead th {\n",
       "        text-align: right;\n",
       "    }\n",
       "</style>\n",
       "<table border=\"1\" class=\"dataframe\">\n",
       "  <thead>\n",
       "    <tr style=\"text-align: right;\">\n",
       "      <th></th>\n",
       "      <th>InvoiceNo</th>\n",
       "      <th>StockCode</th>\n",
       "      <th>Quantity</th>\n",
       "      <th>InvoiceDate</th>\n",
       "      <th>UnitPrice</th>\n",
       "      <th>CustomerID</th>\n",
       "    </tr>\n",
       "    <tr>\n",
       "      <th>Cluster</th>\n",
       "      <th></th>\n",
       "      <th></th>\n",
       "      <th></th>\n",
       "      <th></th>\n",
       "      <th></th>\n",
       "      <th></th>\n",
       "    </tr>\n",
       "  </thead>\n",
       "  <tbody>\n",
       "    <tr>\n",
       "      <th>0</th>\n",
       "      <td>547779.395521</td>\n",
       "      <td>22778.996636</td>\n",
       "      <td>12.484485</td>\n",
       "      <td>1.300726e+18</td>\n",
       "      <td>3.166657</td>\n",
       "      <td>15278.029836</td>\n",
       "    </tr>\n",
       "    <tr>\n",
       "      <th>1</th>\n",
       "      <td>570762.366511</td>\n",
       "      <td>22811.877054</td>\n",
       "      <td>12.101233</td>\n",
       "      <td>1.317943e+18</td>\n",
       "      <td>2.726021</td>\n",
       "      <td>15296.608664</td>\n",
       "    </tr>\n",
       "    <tr>\n",
       "      <th>2</th>\n",
       "      <td>561457.000000</td>\n",
       "      <td>23504.500000</td>\n",
       "      <td>77605.000000</td>\n",
       "      <td>1.309383e+18</td>\n",
       "      <td>1.560000</td>\n",
       "      <td>14396.000000</td>\n",
       "    </tr>\n",
       "    <tr>\n",
       "      <th>3</th>\n",
       "      <td>558136.944893</td>\n",
       "      <td>83079.951304</td>\n",
       "      <td>18.596377</td>\n",
       "      <td>1.308465e+18</td>\n",
       "      <td>2.526702</td>\n",
       "      <td>15390.090026</td>\n",
       "    </tr>\n",
       "  </tbody>\n",
       "</table>\n",
       "</div>"
      ],
      "text/plain": [
       "             InvoiceNo     StockCode      Quantity   InvoiceDate  UnitPrice  \\\n",
       "Cluster                                                                       \n",
       "0        547779.395521  22778.996636     12.484485  1.300726e+18   3.166657   \n",
       "1        570762.366511  22811.877054     12.101233  1.317943e+18   2.726021   \n",
       "2        561457.000000  23504.500000  77605.000000  1.309383e+18   1.560000   \n",
       "3        558136.944893  83079.951304     18.596377  1.308465e+18   2.526702   \n",
       "\n",
       "           CustomerID  \n",
       "Cluster                \n",
       "0        15278.029836  \n",
       "1        15296.608664  \n",
       "2        14396.000000  \n",
       "3        15390.090026  "
      ]
     },
     "execution_count": 40,
     "metadata": {},
     "output_type": "execute_result"
    }
   ],
   "source": [
    "# Calculate the mean for each cluster\n",
    "df.groupby('Cluster').mean()\n"
   ]
  },
  {
   "cell_type": "code",
   "execution_count": null,
   "id": "447ffc06-eb81-4d55-9da7-7f779ad09853",
   "metadata": {},
   "outputs": [],
   "source": []
  }
 ],
 "metadata": {
  "kernelspec": {
   "display_name": "Python (tf_env)",
   "language": "python",
   "name": "tf_env"
  },
  "language_info": {
   "codemirror_mode": {
    "name": "ipython",
    "version": 3
   },
   "file_extension": ".py",
   "mimetype": "text/x-python",
   "name": "python",
   "nbconvert_exporter": "python",
   "pygments_lexer": "ipython3",
   "version": "3.9.18"
  }
 },
 "nbformat": 4,
 "nbformat_minor": 5
}
